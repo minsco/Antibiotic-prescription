{
  "nbformat": 4,
  "nbformat_minor": 0,
  "metadata": {
    "colab": {
      "provenance": [],
      "authorship_tag": "ABX9TyOpGNBHu3QlCr67M+r6a1jU",
      "include_colab_link": true
    },
    "kernelspec": {
      "name": "python3",
      "display_name": "Python 3"
    },
    "language_info": {
      "name": "python"
    }
  },
  "cells": [
    {
      "cell_type": "markdown",
      "metadata": {
        "id": "view-in-github",
        "colab_type": "text"
      },
      "source": [
        "<a href=\"https://colab.research.google.com/github/minsco/Antibiotic-prescription/blob/main/coding.ipynb\" target=\"_parent\"><img src=\"https://colab.research.google.com/assets/colab-badge.svg\" alt=\"Open In Colab\"/></a>"
      ]
    },
    {
      "cell_type": "code",
      "source": [
        "#2557\n",
        "print('Hello world!')"
      ],
      "metadata": {
        "id": "1eIJvI0axwSq"
      },
      "execution_count": null,
      "outputs": []
    },
    {
      "cell_type": "code",
      "execution_count": null,
      "metadata": {
        "colab": {
          "base_uri": "https://localhost:8080/"
        },
        "id": "5R68ETTruKVq",
        "outputId": "73907a8b-b0e8-43a9-ad10-47b35d98f476"
      },
      "outputs": [
        {
          "output_type": "stream",
          "name": "stdout",
          "text": [
            "1 2\n",
            "3\n"
          ]
        }
      ],
      "source": [
        "#1000\n",
        "A,B = map(int, input().split())\n",
        "\n",
        "print(A + B)"
      ]
    },
    {
      "cell_type": "code",
      "source": [
        "#1001\n",
        "A,B = map(int, input().split())\n",
        "\n",
        "print(A - B)"
      ],
      "metadata": {
        "colab": {
          "base_uri": "https://localhost:8080/"
        },
        "id": "0Vv8HH0sw14c",
        "outputId": "e5a81071-f464-491a-d8d2-6ba91f86cce8"
      },
      "execution_count": null,
      "outputs": [
        {
          "output_type": "stream",
          "name": "stdout",
          "text": [
            "3 2\n",
            "1\n"
          ]
        }
      ]
    },
    {
      "cell_type": "code",
      "source": [
        "#10998\n",
        "A,B = map(int, input().split())\n",
        "\n",
        "print(A * B)"
      ],
      "metadata": {
        "id": "pdYlfN0Px9Of"
      },
      "execution_count": null,
      "outputs": []
    },
    {
      "cell_type": "code",
      "source": [
        "#1008\n",
        "A,B = map(int, input().split())\n",
        "\n",
        "print(A / B)"
      ],
      "metadata": {
        "colab": {
          "base_uri": "https://localhost:8080/"
        },
        "id": "75p3oI16yCMf",
        "outputId": "186560f4-a753-4fb8-e7a3-336f57b9f671"
      },
      "execution_count": null,
      "outputs": [
        {
          "output_type": "stream",
          "name": "stdout",
          "text": [
            "3 1\n",
            "3.0\n"
          ]
        }
      ]
    },
    {
      "cell_type": "code",
      "source": [
        "#10869\n",
        "A,B = map(int, input().split())\n",
        "\n",
        "print(A + B)\n",
        "print(A - B)\n",
        "print(A * B)\n",
        "print(A // B)\n",
        "print(A % B)"
      ],
      "metadata": {
        "colab": {
          "base_uri": "https://localhost:8080/"
        },
        "id": "RS2XiZhdyb_m",
        "outputId": "79d25c97-6e0a-42d8-9390-eaf228357690"
      },
      "execution_count": null,
      "outputs": [
        {
          "output_type": "stream",
          "name": "stdout",
          "text": [
            "7 3\n",
            "10\n",
            "4\n",
            "21\n",
            "2\n",
            "1\n"
          ]
        }
      ]
    },
    {
      "cell_type": "code",
      "source": [
        "#11382\n",
        "A,B,C = map(int, input().split())\n",
        "\n",
        "print(A + B + C)"
      ],
      "metadata": {
        "colab": {
          "base_uri": "https://localhost:8080/"
        },
        "id": "DyFPGL2xHDQ1",
        "outputId": "b8d9b20f-044a-449b-abf6-5ffc2af0fce9"
      },
      "execution_count": null,
      "outputs": [
        {
          "output_type": "stream",
          "name": "stdout",
          "text": [
            "7 77 7777\n",
            "7861\n"
          ]
        }
      ]
    },
    {
      "cell_type": "code",
      "source": [
        "#10699\n",
        "import datetime\n",
        "print(str(datetime.datetime.now())[:10])"
      ],
      "metadata": {
        "colab": {
          "base_uri": "https://localhost:8080/"
        },
        "id": "MejnK7_2IFtt",
        "outputId": "2aa0de8d-e49c-4d02-bb5f-9460f5092f07"
      },
      "execution_count": null,
      "outputs": [
        {
          "output_type": "stream",
          "name": "stdout",
          "text": [
            "2025-02-10\n"
          ]
        }
      ]
    },
    {
      "cell_type": "code",
      "source": [
        "#7287\n",
        "print(\"8\")\n",
        "print(\"ms6349\")"
      ],
      "metadata": {
        "colab": {
          "base_uri": "https://localhost:8080/"
        },
        "id": "mIrQzZCIIMk6",
        "outputId": "893aec7f-2c57-40ae-f5b8-cac682baa4dd"
      },
      "execution_count": null,
      "outputs": [
        {
          "output_type": "stream",
          "name": "stdout",
          "text": [
            "8\n",
            "ms6349\n"
          ]
        }
      ]
    },
    {
      "cell_type": "code",
      "source": [
        "#10171\n",
        "print('\\\\    /\\\\')\n",
        "print(\" )  ( ')\")\n",
        "print(\"(  /  )\")\n",
        "print(\" \\\\(__)|\")"
      ],
      "metadata": {
        "colab": {
          "base_uri": "https://localhost:8080/"
        },
        "id": "2lzuBCzcKjLC",
        "outputId": "b431a20d-96d0-421d-c21e-c8eaaabe9e94"
      },
      "execution_count": null,
      "outputs": [
        {
          "output_type": "stream",
          "name": "stdout",
          "text": [
            "\\    /\\\n",
            " )  ( ')\n",
            "(  /  )\n",
            " \\(__)|\n"
          ]
        }
      ]
    },
    {
      "cell_type": "code",
      "source": [
        "#10172\n",
        "print(\"|\\\\_/|\")\n",
        "print(\"|q p|   /}\")\n",
        "print('( 0 )\"\"\"\\\\')\n",
        "print('|\"^\"`    |')\n",
        "print(\"||_/=\\\\\\\\__|\")"
      ],
      "metadata": {
        "colab": {
          "base_uri": "https://localhost:8080/"
        },
        "id": "0Zb0XmN8LXvr",
        "outputId": "02dd5661-51e1-48fe-c154-62e03f27391f"
      },
      "execution_count": null,
      "outputs": [
        {
          "output_type": "stream",
          "name": "stdout",
          "text": [
            "|\\_/|\n",
            "|q p|   /}\n",
            "( 0 )\"\"\"\\\n",
            "|\"^\"`    |\n",
            "||_/=\\\\__|\n"
          ]
        }
      ]
    },
    {
      "cell_type": "code",
      "source": [
        "#25083\n",
        "print(\"\"\"         ,r'\"7\"\"\")\n",
        "print(\"r`-_   ,'  ,/\")\n",
        "print(\"\"\" \\\\. \". L_r'\"\"\")\n",
        "print(\"   `~\\\\/\")\n",
        "print(\"      |\")\n",
        "print(\"      |\")"
      ],
      "metadata": {
        "colab": {
          "base_uri": "https://localhost:8080/"
        },
        "id": "6XawyU6DMx5c",
        "outputId": "9014690a-6d9f-4118-9d15-02f88ebb829d"
      },
      "execution_count": null,
      "outputs": [
        {
          "output_type": "stream",
          "name": "stdout",
          "text": [
            "         ,r'\"7\n",
            "r`-_   ,'  ,/\n",
            " \\. \". L_r'\n",
            "   `~\\/\n",
            "      |\n",
            "      |\n"
          ]
        }
      ]
    },
    {
      "cell_type": "code",
      "source": [
        "#1330\n",
        "A,B = map(int, input().split())\n",
        "\n",
        "if A>B:\n",
        "  print('>')\n",
        "elif A==B:\n",
        "  print('==')\n",
        "else :\n",
        "  print('<')"
      ],
      "metadata": {
        "colab": {
          "base_uri": "https://localhost:8080/"
        },
        "id": "Y4vThy4pODTY",
        "outputId": "f9d0051f-db42-4696-d321-dfa4974efe5f"
      },
      "execution_count": null,
      "outputs": [
        {
          "output_type": "stream",
          "name": "stdout",
          "text": [
            "1 2\n",
            "<\n"
          ]
        }
      ]
    }
  ]
}